{
 "cells": [
  {
   "attachments": {},
   "cell_type": "markdown",
   "metadata": {},
   "source": [
    "<h3><p align=\"center\">导包</p></h3>"
   ]
  },
  {
   "cell_type": "code",
   "execution_count": 43,
   "metadata": {},
   "outputs": [],
   "source": [
    "import cv2\n",
    "import struct\n",
    "import numpy as np\n",
    "import matplotlib.pyplot as plt"
   ]
  },
  {
   "attachments": {},
   "cell_type": "markdown",
   "metadata": {},
   "source": [
    "<h3><p align=\"center\">数据预处理</p></h3>"
   ]
  },
  {
   "cell_type": "code",
   "execution_count": 44,
   "metadata": {},
   "outputs": [],
   "source": [
    "class DataGenerator():\n",
    "    def __init__(self, mode='train', batch_size=1, vaild_ratio=0.2):\n",
    "        '''\n",
    "        mode:           该参数有两个选项 'train'和'test', 分别对应训练集的数据生成器和测试集的数据生成器\n",
    "                        只有mode='train', 参数batch_size和vaild_ratio才是有效的\n",
    "                        该参数默认为'train'\n",
    "\n",
    "        batch_size:     当mode='train'时, 由参数batch_size指定训练过程中每次迭代要给模型输入多少个数据样本\n",
    "\n",
    "        vaild_ratio:    当mode='train'时, 由参数vaild_ratio指定要从全部训练数据中取出多少作为验证集, 注意验证集一般不会参与训练\n",
    "        '''\n",
    "        self.mode = mode\n",
    "        self.batch_size = batch_size\n",
    "        self.vaild_ratio = vaild_ratio\n",
    "        self.num_images = 0\n",
    "        self.raw_images = []\n",
    "        self.images = []\n",
    "        self.labels = []\n",
    "        assert mode in ['train', 'test']\n",
    "        if mode == 'train':\n",
    "            self.images_path = './mnist/train-images.idx3-ubyte'\n",
    "            self.labels_path = './mnist/train-labels.idx1-ubyte'\n",
    "        elif mode == 'test':\n",
    "            self.images_path = './mnist/t10k-images.idx3-ubyte'\n",
    "            self.labels_path = './mnist/t10k-labels.idx1-ubyte'\n",
    "    def load_data(self):\n",
    "        with open(self.images_path, 'rb') as imgpath:\n",
    "            _, nums, rows, cols = struct.unpack('>IIII', imgpath.read(16))\n",
    "            images = np.fromfile(imgpath, dtype=np.uint8).reshape(nums, rows*cols)\n",
    "        with open(self.labels_path, 'rb') as lbpath:\n",
    "            _, nums = struct.unpack('>II', lbpath.read(8))\n",
    "            labels = np.fromfile(lbpath, dtype=np.uint8)\n",
    "        self.num_images = nums\n",
    "        self.images = [images[i] for i in range(nums)]\n",
    "        self.labels = [labels[i] for i in range(nums)]\n",
    "        self.raw_images = np.array(self.images.copy())\n",
    "        self.images = np.array(self.images)\n",
    "        self.labels = np.array(self.labels)\n",
    "    def getTrainIterator(self):\n",
    "        assert self.mode == 'train'\n",
    "        train_images = self.images[:int(self.num_images*(1-self.vaild_ratio))]\n",
    "        train_labels = self.labels[:int(self.num_images*(1-self.vaild_ratio))]\n",
    "        self.train_nums = train_images.shape[0]\n",
    "        iter_num = int(np.ceil(self.train_nums / self.batch_size))\n",
    "        iterator = iter([\n",
    "                [\n",
    "                    train_images[i*self.batch_size:(i+1)*self.batch_size], \n",
    "                    train_labels[i*self.batch_size:(i+1)*self.batch_size]\n",
    "                ] for i in range(iter_num)\n",
    "            ])\n",
    "        return iterator\n",
    "    def getValidIterator(self):\n",
    "        assert self.mode == 'train'\n",
    "        valid_images = self.images[int(self.num_images*(1-self.vaild_ratio)):]\n",
    "        valid_labels = self.labels[int(self.num_images*(1-self.vaild_ratio)):]\n",
    "        self.valid_nums = valid_images.shape[0]\n",
    "        iter_num = self.valid_nums\n",
    "        iterator = iter([\n",
    "            [\n",
    "                valid_images[i],\n",
    "                valid_labels[i]\n",
    "            ] for i in range(iter_num)\n",
    "        ])\n",
    "        return iterator\n",
    "    def getTestIterator(self):\n",
    "        assert self.mode == 'test'\n",
    "        test_images = self.images\n",
    "        test_labels = self.labels\n",
    "        self.test_nums = test_images.shape[0]\n",
    "        iter_num = self.test_nums\n",
    "        iterator = iter([\n",
    "            [\n",
    "                test_images[i],\n",
    "                test_labels[i]\n",
    "            ] for i in range(iter_num)\n",
    "        ])\n",
    "        return iterator\n",
    "    def shuffle(self):\n",
    "        index = np.arange(self.num_images)\n",
    "        np.random.shuffle(index)\n",
    "        self.images, self.labels = self.images[index], self.labels[index]\n",
    "    def normalize(self):\n",
    "        images_max = np.max(self.images, axis=-1, keepdims=True)\n",
    "        images_min = np.min(self.images, axis=-1, keepdims=True)\n",
    "        self.images = (self.images - images_min) / (images_max - images_min)\n",
    "    #def normalize(self):\n",
    "    #    mean = np.mean(self.images)\n",
    "    #    std =  np.std(self.images)\n",
    "    #    self.images = (self.images - mean) / std\n"
   ]
  },
  {
   "attachments": {},
   "cell_type": "markdown",
   "metadata": {},
   "source": [
    "<h3><p align=\"center\">激活函数及其导数</p></h3>"
   ]
  },
  {
   "cell_type": "code",
   "execution_count": 45,
   "metadata": {},
   "outputs": [],
   "source": [
    "class Sigmoid():\n",
    "    def forward(self, x):\n",
    "        self.x = x\n",
    "        y = 1.0 / (1.0 + np.exp(-x))\n",
    "        self.y = y\n",
    "        return self.y\n",
    "    def backward(self, grad):\n",
    "        dx = np.multiply(grad, np.multiply(self.y, 1-self.y))\n",
    "        return dx"
   ]
  },
  {
   "cell_type": "code",
   "execution_count": 46,
   "metadata": {},
   "outputs": [],
   "source": [
    "class Tanh():\n",
    "    def forward(self, x):\n",
    "        self.x = x\n",
    "        y = 2.0 / (1.0 + np.exp(-2*self.x)) - 1.0\n",
    "        self.y = y\n",
    "        return y\n",
    "    def backward(self, grad):\n",
    "        dx = np.multiply(grad, 1 - np.multiply(self.y, self.y))\n",
    "        return dx"
   ]
  },
  {
   "cell_type": "code",
   "execution_count": 47,
   "metadata": {},
   "outputs": [],
   "source": [
    "class Softmax():\n",
    "    def forward(self, x):\n",
    "        self.x = x\n",
    "        exp_x = np.exp(x)\n",
    "        y = exp_x / exp_x.sum(axis=-1, keepdims=True)\n",
    "        self.y = y\n",
    "        return y\n",
    "    def backward(self, grad):\n",
    "        B, dim = self.x.shape\n",
    "        dx = np.zeros((B, dim))\n",
    "        for b in range(B):\n",
    "            dx_curr = np.diag(self.y[b]) - np.outer(self.y[b], self.y[b])\n",
    "            dx[b] = np.dot(grad[b], dx_curr)\n",
    "        return dx"
   ]
  },
  {
   "attachments": {},
   "cell_type": "markdown",
   "metadata": {},
   "source": [
    "<h3><p align=\"center\">交叉熵损失函数及其导数</p></h3>"
   ]
  },
  {
   "cell_type": "code",
   "execution_count": 48,
   "metadata": {},
   "outputs": [],
   "source": [
    "class Softmax():\n",
    "    def forward(self, x):\n",
    "        exp_x = np.exp(x)\n",
    "        y = exp_x / exp_x.sum(axis=1, keepdims=True)\n",
    "        return y"
   ]
  },
  {
   "cell_type": "code",
   "execution_count": 49,
   "metadata": {},
   "outputs": [],
   "source": [
    "class CrossEntropyLoss():\n",
    "    def __init__(self):\n",
    "        self.softmax = Softmax()\n",
    "    def one_hot(self, labels, num_classes):\n",
    "        one_hot_labels = np.eye(num_classes)[labels]\n",
    "        return one_hot_labels\n",
    "    def forward(self, logits, labels):\n",
    "        self.logits = logits\n",
    "        batch_size, num_classes = logits.shape\n",
    "        one_hot_labels = self.one_hot(labels, num_classes)\n",
    "        p = self.softmax.forward(self.logits)\n",
    "        self.batch_size = batch_size\n",
    "        self.labels = one_hot_labels\n",
    "        self.p = p\n",
    "        loss = np.sum(-one_hot_labels * np.log(p)) / self.batch_size\n",
    "        return loss, p\n",
    "    def backward(self):\n",
    "        d_logits = (self.p - self.labels)\n",
    "        return d_logits"
   ]
  },
  {
   "attachments": {},
   "cell_type": "markdown",
   "metadata": {},
   "source": [
    "<h3><p align=\"center\">多层感知机及其导数</p></h3>"
   ]
  },
  {
   "cell_type": "code",
   "execution_count": 50,
   "metadata": {},
   "outputs": [],
   "source": [
    "class Linear():\n",
    "    def __init__(self, input_dim, output_dim):\n",
    "        self.w = np.random.randn(input_dim, output_dim)\n",
    "        self.b = np.random.randn(output_dim)\n",
    "    def forward(self, x):\n",
    "        self.x = x\n",
    "        self.batch_size = self.x.shape[0]\n",
    "        y = np.dot(x, self.w)\n",
    "        y = y + self.b\n",
    "        self.y = y\n",
    "        return y\n",
    "    def backward(self, grad):\n",
    "        dw = np.dot(self.x.T, grad)\n",
    "        db = np.sum(grad, axis=0)\n",
    "        dx = np.dot(grad, self.w.T)\n",
    "        self.dw = dw\n",
    "        self.db = db\n",
    "        return dx\n",
    "    def update(self, lr):\n",
    "        self.w = self.w - lr * self.dw / self.batch_size\n",
    "        self.b = self.b - lr * self.db / self.batch_size"
   ]
  },
  {
   "attachments": {},
   "cell_type": "markdown",
   "metadata": {},
   "source": [
    "<h3><p align=\"center\">分类器</p></h3>"
   ]
  },
  {
   "cell_type": "code",
   "execution_count": 51,
   "metadata": {},
   "outputs": [],
   "source": [
    "class Classifier():\n",
    "    def __init__(self, hp):\n",
    "        self.hp = hp\n",
    "        self.layer_1 = Linear(self.hp[\"input_dim\"], self.hp[\"hidden_dim_1\"])\n",
    "        self.layer_2 = Linear(self.hp[\"hidden_dim_1\"], self.hp[\"hidden_dim_2\"])\n",
    "        self.layer_3 = Linear(self.hp[\"hidden_dim_2\"], self.hp[\"output_dim\"])\n",
    "        self.sigmoid = Sigmoid()\n",
    "        self.tanh = Tanh()\n",
    "        self.cross_entropy_loss = CrossEntropyLoss()\n",
    "    def forward(self, x, y):\n",
    "        h_1 = self.layer_1.forward(x)\n",
    "        a_1 = self.sigmoid.forward(h_1)\n",
    "        h_2 = self.layer_2.forward(a_1)\n",
    "        a_2 = self.tanh.forward(h_2)\n",
    "        h_3 = self.layer_3.forward(a_2)\n",
    "        loss, p = self.cross_entropy_loss.forward(h_3, y)\n",
    "        return loss, p\n",
    "    def backward(self,):\n",
    "        d_h_3 = self.cross_entropy_loss.backward()\n",
    "        d_a_2 = self.layer_3.backward(d_h_3)\n",
    "        d_h_2 = self.tanh.backward(d_a_2)\n",
    "        d_a_1 = self.layer_2.backward(d_h_2)\n",
    "        d_h_1 = self.sigmoid.backward(d_a_1)\n",
    "        d_x = self.layer_1.backward(d_h_1)\n",
    "    def update(self):\n",
    "        lr = self.hp[\"lr\"]\n",
    "        self.layer_1.update(lr)\n",
    "        self.layer_2.update(lr)\n",
    "        self.layer_3.update(lr)"
   ]
  },
  {
   "attachments": {},
   "cell_type": "markdown",
   "metadata": {},
   "source": [
    "<h3><p align=\"center\">训练</p></h3>"
   ]
  },
  {
   "cell_type": "code",
   "execution_count": 79,
   "metadata": {},
   "outputs": [],
   "source": [
    "hp = {\n",
    "    \"lr\": 1e-1,\n",
    "    \"batch_size\": 16,\n",
    "    \"valid_ratio\": 0.1,\n",
    "    \"epochs\": 40,\n",
    "    \"input_dim\": 784,\n",
    "    \"hidden_dim_1\": 64,\n",
    "    \"hidden_dim_2\": 16,\n",
    "#    \"hidden_dim_1\": 128,\n",
    "#    \"hidden_dim_2\": 32,\n",
    "#    \"hidden_dim_1\": 256,\n",
    "#    \"hidden_dim_2\": 64,\n",
    "    \"output_dim\": 10,\n",
    "}"
   ]
  },
  {
   "cell_type": "code",
   "execution_count": 80,
   "metadata": {},
   "outputs": [],
   "source": [
    "train_data_generator = DataGenerator(\n",
    "        mode=\"train\", \n",
    "        batch_size=hp[\"batch_size\"], \n",
    "        vaild_ratio=hp[\"valid_ratio\"]\n",
    "    )\n",
    "train_data_generator.load_data()"
   ]
  },
  {
   "cell_type": "code",
   "execution_count": 81,
   "metadata": {},
   "outputs": [],
   "source": [
    "train_data_generator.images = train_data_generator.images[:50000]\n",
    "train_data_generator.labels = train_data_generator.labels[:50000]\n",
    "train_data_generator.num_images = 50000\n",
    "train_data_generator.normalize()"
   ]
  },
  {
   "cell_type": "code",
   "execution_count": 82,
   "metadata": {},
   "outputs": [],
   "source": [
    "test_data_generator = DataGenerator(mode=\"test\", batch_size=1)\n",
    "test_data_generator.load_data()"
   ]
  },
  {
   "cell_type": "code",
   "execution_count": 83,
   "metadata": {},
   "outputs": [],
   "source": [
    "test_data_generator.images = test_data_generator.images[:10000]\n",
    "test_data_generator.labels = test_data_generator.labels[:10000]\n",
    "test_data_generator.num_images = 10000\n",
    "test_data_generator.normalize()"
   ]
  },
  {
   "cell_type": "code",
   "execution_count": 84,
   "metadata": {},
   "outputs": [],
   "source": [
    "classifier = Classifier(hp)"
   ]
  },
  {
   "cell_type": "code",
   "execution_count": 85,
   "metadata": {},
   "outputs": [
    {
     "name": "stdout",
     "output_type": "stream",
     "text": [
      "[epoch 0] [training ...]\n",
      "[epoch 1] [training ...]\n",
      "[epoch 2] [training ...]\n",
      "[epoch 3] [training ...]\n",
      "[epoch 4] [training ...]\n",
      "[epoch 5] [training ...]\n",
      "[epoch 6] [training ...]\n",
      "[epoch 7] [training ...]\n",
      "[epoch 8] [training ...]\n",
      "[epoch 9] [training ...]\n",
      "[epoch 10] [training ...]\n",
      "[epoch 11] [training ...]\n",
      "[epoch 12] [training ...]\n",
      "[epoch 13] [training ...]\n",
      "[epoch 14] [training ...]\n",
      "[epoch 15] [training ...]\n",
      "[epoch 16] [training ...]\n",
      "[epoch 17] [training ...]\n",
      "[epoch 18] [training ...]\n",
      "[epoch 19] [training ...]\n",
      "[epoch 20] [training ...]\n",
      "[epoch 21] [training ...]\n",
      "[epoch 22] [training ...]\n",
      "[epoch 23] [training ...]\n",
      "[epoch 24] [training ...]\n",
      "[epoch 25] [training ...]\n",
      "[epoch 26] [training ...]\n",
      "[epoch 27] [training ...]\n",
      "[epoch 28] [training ...]\n",
      "[epoch 29] [training ...]\n",
      "[epoch 30] [training ...]\n",
      "[epoch 31] [training ...]\n",
      "[epoch 32] [training ...]\n",
      "[epoch 33] [training ...]\n",
      "[epoch 34] [training ...]\n",
      "[epoch 35] [training ...]\n",
      "[epoch 36] [training ...]\n",
      "[epoch 37] [training ...]\n",
      "[epoch 38] [training ...]\n",
      "[epoch 39] [training ...]\n"
     ]
    },
    {
     "data": {
      "image/png": "[encoded data removed]",
      "text/plain": [
       "<Figure size 640x480 with 1 Axes>"
      ]
     },
     "metadata": {},
     "output_type": "display_data"
    }
   ],
   "source": [
    "loss_val=np.zeros(120000)\n",
    "j = 0\n",
    "for epoch in range(hp[\"epochs\"]):\n",
    "    train_data_generator.shuffle()\n",
    "    train_iter = train_data_generator.getTrainIterator()\n",
    "    for images, labels in train_iter:\n",
    "        loss, pred = classifier.forward(images, labels)\n",
    "        classifier.backward()\n",
    "        classifier.update()\n",
    "        loss_val[j]=loss\n",
    "        j += 1\n",
    "    print(\"[epoch {}] [training ...]\".format(epoch))\n",
    "x=np.arange(120000)\n",
    "plt.figure()\n",
    "plt.plot(x,loss_val)\n",
    "plt.ylabel('loss value')\n",
    "plt.title('loss changing curve')\n",
    "plt.show()"
   ]
  },
  {
   "cell_type": "code",
   "execution_count": 86,
   "metadata": {},
   "outputs": [
    {
     "name": "stdout",
     "output_type": "stream",
     "text": [
      "[test] acc: 0.9118\n"
     ]
    }
   ],
   "source": [
    "test_acc = 0\n",
    "test_iter = test_data_generator.getTestIterator()\n",
    "for images, labels in test_iter:\n",
    "    loss, pred = classifier.forward(images.reshape(1, -1), labels)\n",
    "    pred = pred.argmax(axis=1)\n",
    "    if pred == labels:\n",
    "        test_acc += 1\n",
    "test_acc = test_acc / test_data_generator.test_nums\n",
    "print(\"[test] acc: {}\".format(test_acc))"
   ]
  },
  {
   "attachments": {},
   "cell_type": "markdown",
   "metadata": {},
   "source": [
    "<h3><p align=\"center\">手写图像测试</p></h3>"
   ]
  },
  {
   "cell_type": "code",
   "execution_count": 87,
   "metadata": {},
   "outputs": [],
   "source": [
    "image = cv2.imread('./test/1.png', cv2.IMREAD_GRAYSCALE)\n",
    "image = cv2.resize(image,(28,28), interpolation=cv2.INTER_CUBIC)\n",
    "cv2.imwrite('./test/1.png',image)\n",
    "img = np.reshape(image,[1,784])"
   ]
  },
  {
   "cell_type": "code",
   "execution_count": 88,
   "metadata": {},
   "outputs": [
    {
     "name": "stdout",
     "output_type": "stream",
     "text": [
      "Num:  [0]\n"
     ]
    }
   ],
   "source": [
    "np.seterr(divide='ignore',invalid='ignore')\n",
    "img_max = np.max(img, axis=-1, keepdims=True)\n",
    "img_min = np.min(img, axis=-1, keepdims=True)\n",
    "img_res = (img - img_min) / (img - img_min)\n",
    "loss_mytest,pred_mytest = classifier.forward(img_res.reshape(1, -1), None)\n",
    "pred_mytest = pred_mytest.argmax(axis=1)\n",
    "print('Num: ', pred_mytest)"
   ]
  }
 ],
 "metadata": {
  "kernelspec": {
   "display_name": "prbi",
   "language": "python",
   "name": "python3"
  },
  "language_info": {
   "codemirror_mode": {
    "name": "ipython",
    "version": 3
   },
   "file_extension": ".py",
   "mimetype": "text/x-python",
   "name": "python",
   "nbconvert_exporter": "python",
   "pygments_lexer": "ipython3",
   "version": "3.9.13"
  },
  "orig_nbformat": 4
 },
 "nbformat": 4,
 "nbformat_minor": 2
}
